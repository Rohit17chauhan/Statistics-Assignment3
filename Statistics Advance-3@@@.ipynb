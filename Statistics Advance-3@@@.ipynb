{
 "cells": [
  {
   "cell_type": "markdown",
   "id": "afe4ba44",
   "metadata": {},
   "source": [
    "Q1: What is Estimation Statistics? Explain point estimate and interval estimate"
   ]
  },
  {
   "cell_type": "code",
   "execution_count": 1,
   "id": "8ee3865b",
   "metadata": {},
   "outputs": [
    {
     "data": {
      "text/plain": [
       "'Estimate is an observed numerical value used to estimate an unknown population parameter.\\n\\npoint estimate:A single value used to estimate unknown population parameter.\\n\\nInterval estimate:It is a range of value that is used to estimate the unknown population parameter\\n'"
      ]
     },
     "execution_count": 1,
     "metadata": {},
     "output_type": "execute_result"
    }
   ],
   "source": [
    "Ans1=\"\"\"Estimate is an observed numerical value used to estimate an unknown population parameter.\n",
    "\n",
    "point estimate:A single value used to estimate unknown population parameter.\n",
    "\n",
    "Interval estimate:It is a range of value that is used to estimate the unknown population parameter\n",
    "\"\"\"\n",
    "Ans1"
   ]
  },
  {
   "cell_type": "markdown",
   "id": "c63dfebe",
   "metadata": {},
   "source": [
    "Q2. Write a Python function to estimate the population mean using a sample mean and standard \n",
    "deviation"
   ]
  },
  {
   "cell_type": "code",
   "execution_count": 2,
   "id": "36dd8bf4",
   "metadata": {},
   "outputs": [
    {
     "data": {
      "text/plain": [
       "56.5"
      ]
     },
     "execution_count": 2,
     "metadata": {},
     "output_type": "execute_result"
    }
   ],
   "source": [
    "import numpy as np\n",
    "n=[45,78,69,58,12,77]\n",
    "np.mean(n)"
   ]
  },
  {
   "cell_type": "code",
   "execution_count": 3,
   "id": "f8aa0af9",
   "metadata": {},
   "outputs": [
    {
     "data": {
      "text/plain": [
       "22.925604317734646"
      ]
     },
     "execution_count": 3,
     "metadata": {},
     "output_type": "execute_result"
    }
   ],
   "source": [
    "np.std(n)"
   ]
  },
  {
   "cell_type": "markdown",
   "id": "aa1cbc00",
   "metadata": {},
   "source": [
    "Q3: What is Hypothesis testing? Why is it used? State the importance of Hypothesis testing."
   ]
  },
  {
   "cell_type": "code",
   "execution_count": 6,
   "id": "75b70af4",
   "metadata": {},
   "outputs": [
    {
     "data": {
      "text/plain": [
       "'\\nHypothesis testing is a statistical method used to make inferences or decisions about a population based on sample data.\\nIt involves formulating two competing hypotheses — the null hypothesis (H0) and the alternative hypothesis (H1).\\n\\nWhy it is used?\\nNull Hypothesis (H0): This hypothesis represents the default or the status quo assumption. \\n\\\\It states that there is no effect, no difference, or no relationship in the population.\\nAlternative Hypothesis (H1): This hypothesis contradicts the null hypothesis and suggests that there is a real effect,\\ndifference, or relationship in the population.\\n\\nImportance of Hypothesis Testing:\\nInference about Populations,Controlled Decision-Making,Validation of Theories\\n\\n'"
      ]
     },
     "execution_count": 6,
     "metadata": {},
     "output_type": "execute_result"
    }
   ],
   "source": [
    "Ans3=\"\"\"\n",
    "Hypothesis testing is a statistical method used to make inferences or decisions about a population based on sample data.\n",
    "It involves formulating two competing hypotheses — the null hypothesis (H0) and the alternative hypothesis (H1).\n",
    "\n",
    "Why it is used?\n",
    "Null Hypothesis (H0): This hypothesis represents the default or the status quo assumption. \n",
    "\\It states that there is no effect, no difference, or no relationship in the population.\n",
    "Alternative Hypothesis (H1): This hypothesis contradicts the null hypothesis and suggests that there is a real effect,\n",
    "difference, or relationship in the population.\n",
    "\n",
    "Importance of Hypothesis Testing:\n",
    "Inference about Populations,Controlled Decision-Making,Validation of Theories\n",
    "\n",
    "\"\"\"\n",
    "Ans3"
   ]
  },
  {
   "cell_type": "markdown",
   "id": "62b6727d",
   "metadata": {},
   "source": [
    "Q4. Create a hypothesis that states whether the average weight of male college students is greater than \n",
    "the average weight of female college students."
   ]
  },
  {
   "cell_type": "code",
   "execution_count": 1,
   "id": "8f08324a",
   "metadata": {},
   "outputs": [
    {
     "data": {
      "text/plain": [
       "'\\nNull hypothesis: male average weight > femail average weight\\nAlternate hypothesis:male average weight < femail average weight\\nAssuming a significance level α =0.05\\nTo find the t value we used T-test forumla to calculate T value\\nand the vale t approx is 4.00\\nDetermine the p-value\\nFinally, using the t-distribution table or statistical software, determine the p-value corresponding to the calculated \\nt-statistic and degrees of freedom (df = 18).\\nIf p<α reject the null hypothesis in favor of the alternative hypothesis, \\nconcluding that the average weight of male college students is significantly greater than that of female college students.\\n\\n'"
      ]
     },
     "execution_count": 1,
     "metadata": {},
     "output_type": "execute_result"
    }
   ],
   "source": [
    "Ans4=\"\"\"\n",
    "Null hypothesis: male average weight > femail average weight\n",
    "Alternate hypothesis:male average weight < femail average weight\n",
    "Assuming a significance level α =0.05\n",
    "To find the t value we used T-test forumla to calculate T value\n",
    "and the vale t approx is 4.00\n",
    "Determine the p-value\n",
    "Finally, using the t-distribution table or statistical software, determine the p-value corresponding to the calculated \n",
    "t-statistic and degrees of freedom (df = 18).\n",
    "If p<α reject the null hypothesis in favor of the alternative hypothesis, \n",
    "concluding that the average weight of male college students is significantly greater than that of female college students.\n",
    "\n",
    "\"\"\"\n",
    "Ans4"
   ]
  },
  {
   "cell_type": "markdown",
   "id": "ae22b1a2",
   "metadata": {},
   "source": [
    "Q5. Write a Python script to conduct a hypothesis test on the difference between two population means,\n",
    "given a sample from each population."
   ]
  },
  {
   "cell_type": "code",
   "execution_count": 2,
   "id": "5b8198d1",
   "metadata": {},
   "outputs": [
    {
     "name": "stdout",
     "output_type": "stream",
     "text": [
      "T-statistic: 7.863011136975274\n",
      "P-value: 1.565704511596877e-07\n",
      "Degrees of Freedom: 18\n",
      "Conclusion: Reject the null hypothesis\n"
     ]
    }
   ],
   "source": [
    "import numpy as np\n",
    "from scipy import stats\n",
    "\n",
    "def two_sample_t_test(sample1, sample2, alpha=0.05, alternative='two-sided'):\n",
    "   \n",
    "    # Convert samples to numpy arrays\n",
    "    sample1 = np.array(sample1)\n",
    "    sample2 = np.array(sample2)\n",
    "\n",
    "    # Calculate sample statistics\n",
    "    n1 = len(sample1)\n",
    "    n2 = len(sample2)\n",
    "    mean1 = np.mean(sample1)\n",
    "    mean2 = np.mean(sample2)\n",
    "    var1 = np.var(sample1, ddof=1)  # Use ddof=1 for sample variance\n",
    "    var2 = np.var(sample2, ddof=1)\n",
    "\n",
    "    # Calculate pooled standard deviation and degrees of freedom\n",
    "    pooled_var = ((n1 - 1) * var1 + (n2 - 1) * var2) / (n1 + n2 - 2)\n",
    "    pooled_std = np.sqrt(pooled_var)\n",
    "    df = n1 + n2 - 2\n",
    "\n",
    "    # Calculate t-statistic\n",
    "    t_statistic = (mean1 - mean2) / (pooled_std * np.sqrt(1/n1 + 1/n2))\n",
    "\n",
    "    # Calculate p-value based on the alternative hypothesis\n",
    "    if alternative == 'two-sided':\n",
    "        p_value = 2 * (1 - stats.t.cdf(abs(t_statistic), df))\n",
    "    elif alternative == 'less':\n",
    "        p_value = stats.t.cdf(t_statistic, df)\n",
    "    elif alternative == 'greater':\n",
    "        p_value = 1 - stats.t.cdf(t_statistic, df)\n",
    "\n",
    "    # Determine conclusion based on p-value and alpha\n",
    "    if p_value < alpha:\n",
    "        conclusion = \"Reject the null hypothesis\"\n",
    "    else:\n",
    "        conclusion = \"Fail to reject the null hypothesis\"\n",
    "\n",
    "    return t_statistic, p_value, df, conclusion\n",
    "\n",
    "# Example usage:\n",
    "sample1 = [75, 80, 85, 78, 82, 79, 77, 81, 84, 76]  # Male weights\n",
    "sample2 = [65, 70, 68, 72, 67, 69, 71, 66, 73, 64]  # Female weights\n",
    "\n",
    "t_stat, p_val, degrees_freedom, conclusion = two_sample_t_test(sample1, sample2, alpha=0.05, alternative='greater')\n",
    "\n",
    "print(f\"T-statistic: {t_stat}\")\n",
    "print(f\"P-value: {p_val}\")\n",
    "print(f\"Degrees of Freedom: {degrees_freedom}\")\n",
    "print(f\"Conclusion: {conclusion}\")\n"
   ]
  },
  {
   "cell_type": "markdown",
   "id": "f42b1e37",
   "metadata": {},
   "source": [
    "Q6: What is a null and alternative hypothesis? Give some examples."
   ]
  },
  {
   "cell_type": "code",
   "execution_count": 3,
   "id": "7c489bbb",
   "metadata": {},
   "outputs": [
    {
     "data": {
      "text/plain": [
       "'Null hypothesis:The null hypothesis is a statement that suggests there is no significant difference or relationship\\nbetween variables or that any observed difference is due to random variation or chance. In hypothesis testing, we typically \\nstart by assuming the null hypothesis is true and seek evidence to reject it.\\nExample:Population Mean Comparison,Relationship between Variables\\n\\n\\nAlternate hypothesis:The alternative hypothesis is a statement that contradicts the null hypothesis and suggests that the\\nobserved results are due to a real effect, rather than random chance. It represents what the researcher is trying to establish \\nby rejecting the null hypothesis.\\nExample:Population Mean Comparison,Relationship between Variables\\n'"
      ]
     },
     "execution_count": 3,
     "metadata": {},
     "output_type": "execute_result"
    }
   ],
   "source": [
    "Ans6=\"\"\"Null hypothesis:The null hypothesis is a statement that suggests there is no significant difference or relationship\n",
    "between variables or that any observed difference is due to random variation or chance. In hypothesis testing, we typically \n",
    "start by assuming the null hypothesis is true and seek evidence to reject it.\n",
    "Example:Population Mean Comparison,Relationship between Variables\n",
    "\n",
    "\n",
    "Alternate hypothesis:The alternative hypothesis is a statement that contradicts the null hypothesis and suggests that the\n",
    "observed results are due to a real effect, rather than random chance. It represents what the researcher is trying to establish \n",
    "by rejecting the null hypothesis.\n",
    "Example:Population Mean Comparison,Relationship between Variables\n",
    "\"\"\"\n",
    "Ans6"
   ]
  },
  {
   "cell_type": "markdown",
   "id": "d59ab409",
   "metadata": {},
   "source": [
    "Q7: Write down the steps involved in hypothesis testing."
   ]
  },
  {
   "cell_type": "code",
   "execution_count": 4,
   "id": "2e0d6803",
   "metadata": {},
   "outputs": [
    {
     "data": {
      "text/plain": [
       "'\\n1. State the Hypotheses\\n2. Choose the Significance Level (α)\\n3. Select the Appropriate Test Statistic\\n4. Collect and Analyze Data\\n5. Compute the Test Statistic\\n6. Determine the Critical Region\\n7. Make a Decision\\n8. Draw Conclusions\\n'"
      ]
     },
     "execution_count": 4,
     "metadata": {},
     "output_type": "execute_result"
    }
   ],
   "source": [
    "Ans7=\"\"\"\n",
    "1. State the Hypotheses\n",
    "2. Choose the Significance Level (α)\n",
    "3. Select the Appropriate Test Statistic\n",
    "4. Collect and Analyze Data\n",
    "5. Compute the Test Statistic\n",
    "6. Determine the Critical Region\n",
    "7. Make a Decision\n",
    "8. Draw Conclusions\n",
    "\"\"\"\n",
    "Ans7"
   ]
  },
  {
   "cell_type": "markdown",
   "id": "82d551a0",
   "metadata": {},
   "source": [
    "Q8. Define p-value and explain its significance in hypothesis testing."
   ]
  },
  {
   "cell_type": "code",
   "execution_count": 5,
   "id": "4fcead2a",
   "metadata": {},
   "outputs": [
    {
     "data": {
      "text/plain": [
       "' \\nThe p-value is a number, calculated from a statistical test,that describe how likely you are to have found a particular set of\\nobservation if tne null hypothesis were true.P-value is used in hypothesis testing to help decide wheather  to reject the null \\nhypothesis or not .\\nSignificance Level (α):\\nThe significance level (α) is a predetermined threshold used to interpret the p-value in hypothesis testing. \\nIt represents the maximum acceptable probability of incorrectly rejecting the null hypothesis when it is actually true.\\nIn other words, α sets the criterion for how rare the observed data must be in order to reject the null hypothesis.'"
      ]
     },
     "execution_count": 5,
     "metadata": {},
     "output_type": "execute_result"
    }
   ],
   "source": [
    "Ans8=\"\"\" \n",
    "The p-value is a number, calculated from a statistical test,that describe how likely you are to have found a particular set of\n",
    "observation if tne null hypothesis were true.P-value is used in hypothesis testing to help decide wheather  to reject the null \n",
    "hypothesis or not .\n",
    "Significance Level (α):\n",
    "The significance level (α) is a predetermined threshold used to interpret the p-value in hypothesis testing. \n",
    "It represents the maximum acceptable probability of incorrectly rejecting the null hypothesis when it is actually true.\n",
    "In other words, α sets the criterion for how rare the observed data must be in order to reject the null hypothesis.\"\"\"\n",
    "Ans8"
   ]
  },
  {
   "cell_type": "markdown",
   "id": "35aec7c6",
   "metadata": {},
   "source": [
    "Q9. Generate a Student's t-distribution plot using Python's matplotlib library, with the degrees of freedom\n",
    "parameter set to 10."
   ]
  },
  {
   "cell_type": "code",
   "execution_count": 6,
   "id": "8ef48c47",
   "metadata": {},
   "outputs": [
    {
     "data": {
      "image/png": "[encoded data removed]",
      "text/plain": [
       "<Figure size 576x432 with 1 Axes>"
      ]
     },
     "metadata": {
      "needs_background": "light"
     },
     "output_type": "display_data"
    }
   ],
   "source": [
    "import numpy as np\n",
    "import matplotlib.pyplot as plt\n",
    "from scipy.stats import t\n",
    "\n",
    "# Degrees of freedom for the t-distribution\n",
    "degrees_of_freedom = 10\n",
    "\n",
    "# Generate x values for plotting (range of t-values)\n",
    "x = np.linspace(-4, 4, 400)  # Choose a range of t-values for the plot\n",
    "\n",
    "# Calculate the probability density function (PDF) of the t-distribution\n",
    "pdf = t.pdf(x, df=degrees_of_freedom)\n",
    "\n",
    "# Plotting the t-distribution\n",
    "plt.figure(figsize=(8, 6))\n",
    "plt.plot(x, pdf, label=f't-distribution (df={degrees_of_freedom})', color='b')\n",
    "\n",
    "# Highlight critical values for significance levels (optional)\n",
    "alpha = 0.05\n",
    "t_critical_positive = t.ppf(1 - alpha/2, df=degrees_of_freedom)\n",
    "t_critical_negative = -t_critical_positive\n",
    "\n",
    "plt.fill_between(x, pdf, where=(x > t_critical_positive), color='gray', alpha=0.5, label=f'α={alpha}')\n",
    "plt.fill_between(x, pdf, where=(x < t_critical_negative), color='gray', alpha=0.5)\n",
    "\n",
    "# Add vertical lines at critical values\n",
    "plt.axvline(t_critical_positive, color='r', linestyle='--', label='Critical Value')\n",
    "plt.axvline(t_critical_negative, color='r', linestyle='--')\n",
    "\n",
    "# Add labels, title, and legend\n",
    "plt.xlabel('t-values')\n",
    "plt.ylabel('Probability Density')\n",
    "plt.title(f'Student\\'s t-Distribution (df={degrees_of_freedom})')\n",
    "plt.legend()\n",
    "\n",
    "# Show plot\n",
    "plt.grid(True)\n",
    "plt.show()\n"
   ]
  },
  {
   "cell_type": "markdown",
   "id": "8fc397e8",
   "metadata": {},
   "source": [
    "Q10. Write a Python program to calculate the two-sample t-test for independent samples, given two\n",
    "random samples of equal size and a null hypothesis that the population means are equal."
   ]
  },
  {
   "cell_type": "code",
   "execution_count": 7,
   "id": "66f34bfd",
   "metadata": {},
   "outputs": [
    {
     "name": "stdout",
     "output_type": "stream",
     "text": [
      "Results of Two-Sample t-test:\n",
      "t-statistic: 0.0405\n",
      "p-value: 0.9679\n",
      "Degrees of Freedom: 38\n",
      "Conclusion: Fail to reject the null hypothesis\n"
     ]
    }
   ],
   "source": [
    "import numpy as np\n",
    "from scipy import stats\n",
    "\n",
    "def two_sample_t_test(sample1, sample2, alpha=0.05):\n",
    "    \n",
    "    # Convert samples to numpy arrays\n",
    "    sample1 = np.array(sample1)\n",
    "    sample2 = np.array(sample2)\n",
    "\n",
    "    # Calculate sample statistics\n",
    "    n1 = len(sample1)\n",
    "    n2 = len(sample2)\n",
    "    mean1 = np.mean(sample1)\n",
    "    mean2 = np.mean(sample2)\n",
    "    var1 = np.var(sample1, ddof=1)  # Use ddof=1 for sample variance\n",
    "    var2 = np.var(sample2, ddof=1)\n",
    "\n",
    "    # Calculate pooled standard deviation and degrees of freedom\n",
    "    pooled_var = ((n1 - 1) * var1 + (n2 - 1) * var2) / (n1 + n2 - 2)\n",
    "    pooled_std = np.sqrt(pooled_var)\n",
    "    df = n1 + n2 - 2\n",
    "\n",
    "    # Calculate t-statistic\n",
    "    t_statistic = (mean1 - mean2) / (pooled_std * np.sqrt(1/n1 + 1/n2))\n",
    "\n",
    "    # Calculate p-value\n",
    "    p_value = 2 * (1 - stats.t.cdf(abs(t_statistic), df))\n",
    "\n",
    "    # Determine conclusion based on p-value and alpha\n",
    "    if p_value < alpha:\n",
    "        conclusion = \"Reject the null hypothesis\"\n",
    "    else:\n",
    "        conclusion = \"Fail to reject the null hypothesis\"\n",
    "\n",
    "    return t_statistic, p_value, df, conclusion\n",
    "\n",
    "# Generate two random samples of equal size\n",
    "np.random.seed(0)  # for reproducibility\n",
    "sample_size = 20\n",
    "sample1 = np.random.normal(loc=50, scale=10, size=sample_size)\n",
    "sample2 = np.random.normal(loc=55, scale=10, size=sample_size)\n",
    "\n",
    "# Perform two-sample t-test\n",
    "t_stat, p_val, degrees_freedom, conclusion = two_sample_t_test(sample1, sample2)\n",
    "\n",
    "# Print results\n",
    "print(\"Results of Two-Sample t-test:\")\n",
    "print(f\"t-statistic: {t_stat:.4f}\")\n",
    "print(f\"p-value: {p_val:.4f}\")\n",
    "print(f\"Degrees of Freedom: {degrees_freedom}\")\n",
    "print(f\"Conclusion: {conclusion}\")\n"
   ]
  },
  {
   "cell_type": "markdown",
   "id": "a4746e08",
   "metadata": {},
   "source": [
    "Q11: What is Student’s t distribution? When to use the t-Distribution."
   ]
  },
  {
   "cell_type": "code",
   "execution_count": 8,
   "id": "7ba3c78f",
   "metadata": {},
   "outputs": [
    {
     "data": {
      "text/plain": [
       "\"\\nStudent's t-distribution, commonly referred to as the t-distribution, is a probability distribution used in statistics to model\\nthe distribution of a continuous random variable when the sample size is small and/or the population standard deviation is\\nunknown.\\nWhen to use the t-Distribution:Small Sample Sizes,Unknown Population Standard Deviation\\n\\n\""
      ]
     },
     "execution_count": 8,
     "metadata": {},
     "output_type": "execute_result"
    }
   ],
   "source": [
    "Ans11=\"\"\"\n",
    "Student's t-distribution, commonly referred to as the t-distribution, is a probability distribution used in statistics to model\n",
    "the distribution of a continuous random variable when the sample size is small and/or the population standard deviation is\n",
    "unknown.\n",
    "When to use the t-Distribution:Small Sample Sizes,Unknown Population Standard Deviation\n",
    "\n",
    "\"\"\"\n",
    "Ans11"
   ]
  },
  {
   "cell_type": "markdown",
   "id": "26779b2c",
   "metadata": {},
   "source": [
    "Q12: What is t-statistic? State the formula for t-statistic."
   ]
  },
  {
   "cell_type": "code",
   "execution_count": 9,
   "id": "87430e58",
   "metadata": {},
   "outputs": [
    {
     "data": {
      "text/plain": [
       "'\\nThe t-statistic is a measure used in hypothesis testing to determine if there is a significant difference between the means of\\ntwo groups, or to assess whether a sample mean differs significantly from a known or hypothesized population mean. It is based\\non the t-distribution and is used when the population standard deviation is unknown and is estimated from the sample data.\\nFormula:\\nt=x̄-μ0/s*√n \\nwhere:\\nx̄ is the sample mean,\\nμ0 is the hypothesized population mean,\\ns is the sample standard deviation,\\nn is the sample size.\\n'"
      ]
     },
     "execution_count": 9,
     "metadata": {},
     "output_type": "execute_result"
    }
   ],
   "source": [
    "Ans12=\"\"\"\n",
    "The t-statistic is a measure used in hypothesis testing to determine if there is a significant difference between the means of\n",
    "two groups, or to assess whether a sample mean differs significantly from a known or hypothesized population mean. It is based\n",
    "on the t-distribution and is used when the population standard deviation is unknown and is estimated from the sample data.\n",
    "Formula:\n",
    "t=x̄-μ0/s*√n \n",
    "where:\n",
    "x̄ is the sample mean,\n",
    "μ0 is the hypothesized population mean,\n",
    "s is the sample standard deviation,\n",
    "n is the sample size.\n",
    "\"\"\"\n",
    "Ans12"
   ]
  },
  {
   "cell_type": "markdown",
   "id": "35df1aaf",
   "metadata": {},
   "source": [
    "Q13. A coffee shop owner wants to estimate the average daily revenue for their shop. They take a random\n",
    "sample of 50 days and find the sample mean revenue to be $500 with a standard deviation of $50.\n",
    "Estimate the population mean revenue with a 95% confidence interval."
   ]
  },
  {
   "cell_type": "code",
   "execution_count": 11,
   "id": "860d525b",
   "metadata": {},
   "outputs": [
    {
     "name": "stdout",
     "output_type": "stream",
     "text": [
      "Sample Mean (x̄): 500\n",
      "Sample Size (n): 50\n",
      "Sample Standard Deviation (s): 50\n",
      "Degrees of Freedom (df): 49\n",
      "Critical t-Value (t_0.025000000000000022): 2.010\n",
      "Standard Error (SE): 7.07\n",
      "Margin of Error (ME): 14.21\n",
      "95% Confidence Interval for Population Mean: (485.79, 514.21)\n"
     ]
    }
   ],
   "source": [
    "\n",
    "import numpy as np\n",
    "from scipy.stats import t\n",
    "\n",
    "# Given data\n",
    "sample_mean = 500\n",
    "sample_size = 50\n",
    "degrees_of_freedom = sample_size - 1\n",
    "confidence_level = 0.95\n",
    "\n",
    "# Assume sample standard deviation (not provided in the question)\n",
    "# If not given, you can estimate or use a placeholder value\n",
    "sample_std = 50  # Placeholder value for demonstration purposes\n",
    "\n",
    "# Calculate standard error (SE)\n",
    "SE = sample_std / np.sqrt(sample_size)\n",
    "\n",
    "# Calculate critical t-value for 95% confidence level and degrees of freedom\n",
    "alpha = 1 - confidence_level\n",
    "t_critical = t.ppf(1 - alpha/2, df=degrees_of_freedom)\n",
    "\n",
    "# Calculate margin of error (ME)\n",
    "ME = t_critical * SE\n",
    "\n",
    "# Calculate confidence interval (CI)\n",
    "lower_bound = sample_mean - ME\n",
    "upper_bound = sample_mean + ME\n",
    "\n",
    "# Print results\n",
    "print(f\"Sample Mean (x̄): {sample_mean}\")\n",
    "print(f\"Sample Size (n): {sample_size}\")\n",
    "print(f\"Sample Standard Deviation (s): {sample_std}\")\n",
    "print(f\"Degrees of Freedom (df): {degrees_of_freedom}\")\n",
    "print(f\"Critical t-Value (t_{alpha/2}): {t_critical:.3f}\")\n",
    "print(f\"Standard Error (SE): {SE:.2f}\")\n",
    "print(f\"Margin of Error (ME): {ME:.2f}\")\n",
    "print(f\"95% Confidence Interval for Population Mean: ({lower_bound:.2f}, {upper_bound:.2f})\")\n"
   ]
  },
  {
   "cell_type": "markdown",
   "id": "7555d369",
   "metadata": {},
   "source": [
    "Q14. A researcher hypothesizes that a new drug will decrease blood pressure by 10 mmHg. They conduct a\n",
    "clinical trial with 100 patients and find that the sample mean decrease in blood pressure is 8 mmHg with a\n",
    "standard deviation of 3 mmHg. Test the hypothesis with a significance level of 0.05."
   ]
  },
  {
   "cell_type": "code",
   "execution_count": 12,
   "id": "0fd9e7ee",
   "metadata": {},
   "outputs": [
    {
     "data": {
      "text/plain": [
       "'\\nNull Hypothesis(H0):Decrease blood pressure\\nAlternate Hypothesis(HA):Not Decrease the blood pressure\\nmean of sample(̄x̄):100\\nassumed mean(μ):8\\nstandard deviation(σ):3\\nnumber of observartin(n):10\\ndegree of freedom=n-1\\n                  =10-1\\n                  dof=3\\nnow go for the t-table and the value is 2.262\\n2.262  is my significant value \\nif the t value is less or greater than significant value than reject the null hypothesis\\nt=x̄-μ/(s/√n)\\nt=100-8/(3/√10)\\nt=92/(3/3.16)\\nt=92/0.94936\\nt=69.90\\nso\\nt(69.90>2.262)\\nso we reject the null hypothesis \\nconclusion:\\nThe vale of t is increase so the new drug decreasing the the blood pressure\\n\\n'"
      ]
     },
     "execution_count": 12,
     "metadata": {},
     "output_type": "execute_result"
    }
   ],
   "source": [
    "Ans14=\"\"\"\n",
    "Null Hypothesis(H0):Decrease blood pressure\n",
    "Alternate Hypothesis(HA):Not Decrease the blood pressure\n",
    "mean of sample(̄x̄):100\n",
    "assumed mean(μ):8\n",
    "standard deviation(σ):3\n",
    "number of observartin(n):10\n",
    "degree of freedom=n-1\n",
    "                  =10-1\n",
    "                  dof=3\n",
    "now go for the t-table and the value is 2.262\n",
    "2.262  is my significant value \n",
    "if the t value is less or greater than significant value than reject the null hypothesis\n",
    "t=x̄-μ/(s/√n)\n",
    "t=100-8/(3/√10)\n",
    "t=92/(3/3.16)\n",
    "t=92/0.94936\n",
    "t=69.90\n",
    "so\n",
    "t(69.90>2.262)\n",
    "so we reject the null hypothesis \n",
    "conclusion:\n",
    "The vale of t is increase so the new drug decreasing the the blood pressure\n",
    "\n",
    "\"\"\"\n",
    "Ans14"
   ]
  },
  {
   "cell_type": "markdown",
   "id": "c9dadcb8",
   "metadata": {},
   "source": [
    "Q15. An electronics company produces a certain type of product with a mean weight of 5 pounds and a\n",
    "standard deviation of 0.5 pounds. A random sample of 25 products is taken, and the sample mean weight\n",
    "is found to be 4.8 pounds. Test the hypothesis that the true mean weight of the products is less than 5\n",
    "pounds with a significance level of 0.01."
   ]
  },
  {
   "cell_type": "code",
   "execution_count": 13,
   "id": "656e4bad",
   "metadata": {},
   "outputs": [
    {
     "data": {
      "text/plain": [
       "'\\nNull Htpothesis(H0)=the true mean weight of the products is less than 5 pounds with a significance level of 0.01.\\nAlternate Hypothesis(HA)=no the true mean weight of the products is less than 5pounds with a significance level of 0.01.\\nmean of sample(̄x̄):4.8\\nassumed mean(μ):5\\nstandard deviation(σ):0.5\\nnumber of observartin(n):25\\nsignificant value:0.01\\ndegree of freedom=n-1\\n                 =25-1\\n                 =24\\nnow go for the t-table and the value is 2.492\\nif the t value is less or greater than significant value than reject the null hypothesis\\nt=x̄-μ/(s/√n)\\nt=4.8-5/(0.5/√25)\\nt=0.02/(0.5/5)\\nt=0.02/0.1\\nt=0.2\\nso the null hypothesis is true\\n\\n    '"
      ]
     },
     "execution_count": 13,
     "metadata": {},
     "output_type": "execute_result"
    }
   ],
   "source": [
    "Ans15=\"\"\"\n",
    "Null Htpothesis(H0)=the true mean weight of the products is less than 5 pounds with a significance level of 0.01.\n",
    "Alternate Hypothesis(HA)=no the true mean weight of the products is less than 5pounds with a significance level of 0.01.\n",
    "mean of sample(̄x̄):4.8\n",
    "assumed mean(μ):5\n",
    "standard deviation(σ):0.5\n",
    "number of observartin(n):25\n",
    "significant value:0.01\n",
    "degree of freedom=n-1\n",
    "                 =25-1\n",
    "                 =24\n",
    "now go for the t-table and the value is 2.492\n",
    "if the t value is less or greater than significant value than reject the null hypothesis\n",
    "t=x̄-μ/(s/√n)\n",
    "t=4.8-5/(0.5/√25)\n",
    "t=0.02/(0.5/5)\n",
    "t=0.02/0.1\n",
    "t=0.2\n",
    "so the null hypothesis is true\n",
    "\n",
    "    \"\"\"\n",
    "Ans15"
   ]
  },
  {
   "cell_type": "markdown",
   "id": "4681ef71",
   "metadata": {},
   "source": [
    "Q16. Two groups of students are given different study materials to prepare for a test. The first group (n1 =\n",
    "30) has a mean score of 80 with a standard deviation of 10, and the second group (n2 = 40) has a mean\n",
    "score of 75 with a standard deviation of 8. Test the hypothesis that the population means for the two\n",
    "groups are equal with a significance level of 0.01."
   ]
  },
  {
   "cell_type": "code",
   "execution_count": null,
   "id": "ee889ec2",
   "metadata": {},
   "outputs": [],
   "source": [
    "30"
   ]
  }
 ],
 "metadata": {
  "kernelspec": {
   "display_name": "Python 3 (ipykernel)",
   "language": "python",
   "name": "python3"
  },
  "language_info": {
   "codemirror_mode": {
    "name": "ipython",
    "version": 3
   },
   "file_extension": ".py",
   "mimetype": "text/x-python",
   "name": "python",
   "nbconvert_exporter": "python",
   "pygments_lexer": "ipython3",
   "version": "3.9.12"
  }
 },
 "nbformat": 4,
 "nbformat_minor": 5
}
